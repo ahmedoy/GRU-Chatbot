{
  "nbformat": 4,
  "nbformat_minor": 0,
  "metadata": {
    "colab": {
      "name": "Install Glove Tutorial",
      "provenance": [],
      "collapsed_sections": [],
      "mount_file_id": "1ZwIwF_4GSNYZvwmL1hyHhrh0gZNok3My",
      "authorship_tag": "ABX9TyMWjnA6Hi4eVJ30sPXz0EVQ",
      "include_colab_link": true
    },
    "kernelspec": {
      "name": "python3",
      "display_name": "Python 3"
    }
  },
  "cells": [
    {
      "cell_type": "markdown",
      "metadata": {
        "id": "view-in-github",
        "colab_type": "text"
      },
      "source": [
        "<a href=\"https://colab.research.google.com/github/ahmedoy/GRU-Chatbot/blob/master/Install_Glove_Colab_Tutorial.ipynb\" target=\"_parent\"><img src=\"https://colab.research.google.com/assets/colab-badge.svg\" alt=\"Open In Colab\"/></a>"
      ]
    },
    {
      "cell_type": "markdown",
      "metadata": {
        "id": "FZ-iwkQ8rmdB",
        "colab_type": "text"
      },
      "source": [
        "For installing GloVe (840B,300D) you will need about 10 gb of empty space on your Google Drive. After installing however, the only file you need to keep is a 3gb file. What torchtext will do is essentially download 3 files: GloVe.zip(2gb), GloVe.txt(5gb), and GloVe.txt.pt(3gb). After installation, that last file, GloVe.txt.pt, is the only file you will need to keep."
      ]
    },
    {
      "cell_type": "code",
      "metadata": {
        "id": "H6lGtPQ_Xjqm",
        "colab_type": "code",
        "colab": {}
      },
      "source": [
        "import torch\n",
        "import torchtext"
      ],
      "execution_count": null,
      "outputs": []
    },
    {
      "cell_type": "code",
      "metadata": {
        "id": "nzZ5tYTpzJzp",
        "colab_type": "code",
        "colab": {}
      },
      "source": [
        "#Downloading GloVe on Drive\n",
        "glove_save_path = '/content/drive/My Drive/Discord Bot Project/Test01/models'\n",
        "glove = torchtext.vocab.GloVe(name='840B', dim=300, cache=glove_save_path )"
      ],
      "execution_count": null,
      "outputs": []
    },
    {
      "cell_type": "code",
      "metadata": {
        "id": "9tE8DXMs_jTn",
        "colab_type": "code",
        "colab": {}
      },
      "source": [
        "#Loading GloVe\n",
        "glove_load_path = '/content/drive/My Drive/Discord Bot Project/Test01/models/glove.840B.300d.txt.pt'\n",
        "glove = torch.load(glove_load_path)"
      ],
      "execution_count": null,
      "outputs": []
    },
    {
      "cell_type": "markdown",
      "metadata": {
        "id": "gNY91FjBtPM-",
        "colab_type": "text"
      },
      "source": [
        "Now that we have loaded GloVe let's understand the format by which it's loaded. Let's say I want to know what the word embedding of the word 'github' is. The next line of code takes any word in GloVe and tells you its index in the embeddings. It turns out that the word 'github' has the index of 85570."
      ]
    },
    {
      "cell_type": "code",
      "metadata": {
        "id": "5a9o2pvttswc",
        "colab_type": "code",
        "colab": {}
      },
      "source": [
        "word = 'github'\n",
        "word_index = glove[1][word]\n",
        "print(word_index)\n"
      ],
      "execution_count": null,
      "outputs": []
    },
    {
      "cell_type": "markdown",
      "metadata": {
        "id": "k-FEcu_nvCr6",
        "colab_type": "text"
      },
      "source": [
        "After, getting the word github's index we will get its embedding which is represented as a 300d vector. All we have to do is use the index we got above, word_index, and use that as an index in glove[2]. This will return a torch.tensor representation of the 300d embedding "
      ]
    },
    {
      "cell_type": "code",
      "metadata": {
        "id": "KywQzO0EvhVC",
        "colab_type": "code",
        "colab": {}
      },
      "source": [
        "word_embedding = glove[2][word_index]\n",
        "print(word_embedding)"
      ],
      "execution_count": null,
      "outputs": []
    },
    {
      "cell_type": "markdown",
      "metadata": {
        "id": "vDfsf5aiwyNb",
        "colab_type": "text"
      },
      "source": [
        "So, we've used glove[1] and glove[2]. You might be wondering what glove[0] does. It's the opposite to glove[1]. Instead of taking a word and returning its index, it takes an index and returns the word at that index. So, for example, we might want to know what are the first and last words in GloVe. The next block of code does that. Well, the last word in GloVe's vocab is zulchzulu, whatever that is."
      ]
    },
    {
      "cell_type": "code",
      "metadata": {
        "id": "beVpia33xSWc",
        "colab_type": "code",
        "colab": {}
      },
      "source": [
        "print(glove[0][0])\n",
        "print(glove[0][-1])"
      ],
      "execution_count": null,
      "outputs": []
    },
    {
      "cell_type": "markdown",
      "metadata": {
        "id": "Y1BVczMpx5Mu",
        "colab_type": "text"
      },
      "source": [
        "The next block of code is not essential, but it defines a function that returns the cosine similarity between the vector embeddings of two words. The cosine similarity is a pretty good way of knowing the similarity of the vector representations of 2 words in GloVe"
      ]
    },
    {
      "cell_type": "code",
      "metadata": {
        "id": "amQhv0si7tmF",
        "colab_type": "code",
        "colab": {}
      },
      "source": [
        "#measure cosine similarity\n",
        "from scipy import spatial\n",
        "\n",
        "\n",
        "\n",
        "def cos_sim(word1,word2):\n",
        "  \n",
        "\n",
        "  return 1 - spatial.distance.cosine(glove[2][glove[1][word1]],glove[2][glove[1][word2]])\n",
        "\n",
        "\n",
        "\n",
        "\n",
        "\n"
      ],
      "execution_count": null,
      "outputs": []
    },
    {
      "cell_type": "markdown",
      "metadata": {
        "id": "GKA4fNITyixd",
        "colab_type": "text"
      },
      "source": [
        "Let's try a couple interesting words !"
      ]
    },
    {
      "cell_type": "markdown",
      "metadata": {
        "id": "F2BS5dGqy6Pk",
        "colab_type": "text"
      },
      "source": [
        "So, the first two words were hi and hello. The similarity between them is 0.76."
      ]
    },
    {
      "cell_type": "code",
      "metadata": {
        "id": "iTgUoEfMyhQ8",
        "colab_type": "code",
        "colab": {}
      },
      "source": [
        "print(cos_sim('hi','hello'))"
      ],
      "execution_count": null,
      "outputs": []
    },
    {
      "cell_type": "markdown",
      "metadata": {
        "id": "-44eMT4czyFB",
        "colab_type": "text"
      },
      "source": [
        "Let's see how GloVe sees github to javascript vs github to python. Well the similarity between github and python turns out to be a little higher."
      ]
    },
    {
      "cell_type": "code",
      "metadata": {
        "id": "JSBXQVZDzPr_",
        "colab_type": "code",
        "colab": {}
      },
      "source": [
        "print(cos_sim('github','javascript'))\n",
        "print(cos_sim('github','python'))"
      ],
      "execution_count": null,
      "outputs": []
    },
    {
      "cell_type": "markdown",
      "metadata": {
        "id": "HCHOVkNE0h-W",
        "colab_type": "text"
      },
      "source": [
        "The similarity between ocean and see is very high, about 0.822"
      ]
    },
    {
      "cell_type": "code",
      "metadata": {
        "id": "BdOB7Fzt0bA1",
        "colab_type": "code",
        "colab": {}
      },
      "source": [
        "print(cos_sim('ocean','sea'))"
      ],
      "execution_count": null,
      "outputs": []
    },
    {
      "cell_type": "markdown",
      "metadata": {
        "id": "7jxq3WYH0pmr",
        "colab_type": "text"
      },
      "source": [
        "Finally, let's try two absolutley unrelated words: C++ and easy. The result is 0.169 which kind of proves my point."
      ]
    },
    {
      "cell_type": "code",
      "metadata": {
        "id": "K7wFQQfv0o1n",
        "colab_type": "code",
        "colab": {}
      },
      "source": [
        "print(cos_sim('C++','easy'))"
      ],
      "execution_count": null,
      "outputs": []
    }
  ]
}